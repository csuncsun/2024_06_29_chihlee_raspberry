{
 "cells": [
  {
   "cell_type": "code",
   "execution_count": 1,
   "metadata": {},
   "outputs": [
    {
     "data": {
      "text/plain": [
       "True"
      ]
     },
     "execution_count": 1,
     "metadata": {},
     "output_type": "execute_result"
    }
   ],
   "source": [
    "import redis\n",
    "\n",
    "connection = redis.Redis(host='192.168.1.124',port=6379)\n",
    "connection.ping()"
   ]
  },
  {
   "cell_type": "code",
   "execution_count": 2,
   "metadata": {},
   "outputs": [
    {
     "data": {
      "text/plain": [
       "'祥富'"
      ]
     },
     "execution_count": 2,
     "metadata": {},
     "output_type": "execute_result"
    }
   ],
   "source": [
    "connection.set('full_name','祥富')\n",
    "connection.get('full_name').decode('utf-8')\n"
   ]
  },
  {
   "cell_type": "code",
   "execution_count": 3,
   "metadata": {},
   "outputs": [
    {
     "data": {
      "text/plain": [
       "True"
      ]
     },
     "execution_count": 3,
     "metadata": {},
     "output_type": "execute_result"
    }
   ],
   "source": [
    "connection.set('temperature',27.5)\n",
    "float(connection.get('temperature').decode('utf-8'))\n",
    "27.5\n",
    "#list\n",
    "connection.lpush('my_list',1,2,3,4,5)\n",
    "5\n",
    "connection.rpush('my_list1',1,2,3,4,5)\n",
    "5\n",
    "connection.lindex('my_list1',2).decode('utf-8')\n",
    "'3'\n",
    "connection.lrange('my_list1',0,2)\n",
    "[b'1', b'2', b'3']\n",
    "connection.lset('my_list1',0,100)"
   ]
  },
  {
   "cell_type": "code",
   "execution_count": 4,
   "metadata": {},
   "outputs": [
    {
     "data": {
      "text/plain": [
       "b'zoom'"
      ]
     },
     "execution_count": 4,
     "metadata": {},
     "output_type": "execute_result"
    }
   ],
   "source": [
    "\n",
    "#hash\n",
    "connection.hset(\"myhash\",'field1','foo')\n",
    "connection.hset('myhash','field2','zoom')\n",
    "\n",
    "connection.hget('myhash','field1')\n",
    "connection.hget('myhash','field2')\n"
   ]
  }
 ],
 "metadata": {
  "kernelspec": {
   "display_name": "venv1",
   "language": "python",
   "name": "python3"
  },
  "language_info": {
   "codemirror_mode": {
    "name": "ipython",
    "version": 3
   },
   "file_extension": ".py",
   "mimetype": "text/x-python",
   "name": "python",
   "nbconvert_exporter": "python",
   "pygments_lexer": "ipython3",
   "version": "3.11.2"
  }
 },
 "nbformat": 4,
 "nbformat_minor": 2
}
